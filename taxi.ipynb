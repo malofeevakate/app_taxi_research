{
  "cells": [
    {
      "cell_type": "markdown",
      "metadata": {
        "id": "view-in-github",
        "colab_type": "text"
      },
      "source": [
        "<a href=\"https://colab.research.google.com/github/malofeevakate/app_taxi_research/blob/main/taxi.ipynb\" target=\"_parent\"><img src=\"https://colab.research.google.com/assets/colab-badge.svg\" alt=\"Open In Colab\"/></a>"
      ]
    },
    {
      "cell_type": "code",
      "execution_count": null,
      "metadata": {
        "id": "ahoantF06vh2"
      },
      "outputs": [],
      "source": [
        "import numpy as np\n",
        "import pandas as pd\n",
        "import scipy as sp\n",
        "from scipy import stats\n",
        "import seaborn as sns\n",
        "import matplotlib.pyplot as plt\n",
        "from matplotlib.colors import ListedColormap\n",
        "sns.set(rc={'figure.figsize':(12,6)}, style=\"whitegrid\")"
      ]
    },
    {
      "cell_type": "code",
      "execution_count": null,
      "metadata": {
        "id": "sCafmG4P6vh5"
      },
      "outputs": [],
      "source": [
        "# загружаем данные\n",
        "df = pd.read_csv('churn.csv')"
      ]
    },
    {
      "cell_type": "code",
      "execution_count": null,
      "metadata": {
        "id": "SrCe0_Ct6vh6",
        "outputId": "b31fa668-629a-4916-d7e9-640c1d03f4b4"
      },
      "outputs": [
        {
          "data": {
            "text/html": [
              "<div>\n",
              "<style scoped>\n",
              "    .dataframe tbody tr th:only-of-type {\n",
              "        vertical-align: middle;\n",
              "    }\n",
              "\n",
              "    .dataframe tbody tr th {\n",
              "        vertical-align: top;\n",
              "    }\n",
              "\n",
              "    .dataframe thead th {\n",
              "        text-align: right;\n",
              "    }\n",
              "</style>\n",
              "<table border=\"1\" class=\"dataframe\">\n",
              "  <thead>\n",
              "    <tr style=\"text-align: right;\">\n",
              "      <th></th>\n",
              "      <th>avg_dist</th>\n",
              "      <th>avg_rating_by_driver</th>\n",
              "      <th>avg_rating_of_driver</th>\n",
              "      <th>avg_surge</th>\n",
              "      <th>city</th>\n",
              "      <th>last_trip_date</th>\n",
              "      <th>phone</th>\n",
              "      <th>signup_date</th>\n",
              "      <th>surge_pct</th>\n",
              "      <th>trips_in_first_30_days</th>\n",
              "      <th>luxury_car_user</th>\n",
              "      <th>weekday_pct</th>\n",
              "    </tr>\n",
              "  </thead>\n",
              "  <tbody>\n",
              "    <tr>\n",
              "      <th>0</th>\n",
              "      <td>3.67</td>\n",
              "      <td>5.0</td>\n",
              "      <td>4.7</td>\n",
              "      <td>1.10</td>\n",
              "      <td>King's Landing</td>\n",
              "      <td>2014-06-17</td>\n",
              "      <td>iPhone</td>\n",
              "      <td>2014-01-25</td>\n",
              "      <td>15.4</td>\n",
              "      <td>4</td>\n",
              "      <td>True</td>\n",
              "      <td>46.2</td>\n",
              "    </tr>\n",
              "    <tr>\n",
              "      <th>1</th>\n",
              "      <td>8.26</td>\n",
              "      <td>5.0</td>\n",
              "      <td>5.0</td>\n",
              "      <td>1.00</td>\n",
              "      <td>Astapor</td>\n",
              "      <td>2014-05-05</td>\n",
              "      <td>Android</td>\n",
              "      <td>2014-01-29</td>\n",
              "      <td>0.0</td>\n",
              "      <td>0</td>\n",
              "      <td>False</td>\n",
              "      <td>50.0</td>\n",
              "    </tr>\n",
              "    <tr>\n",
              "      <th>2</th>\n",
              "      <td>0.77</td>\n",
              "      <td>5.0</td>\n",
              "      <td>4.3</td>\n",
              "      <td>1.00</td>\n",
              "      <td>Astapor</td>\n",
              "      <td>2014-01-07</td>\n",
              "      <td>iPhone</td>\n",
              "      <td>2014-01-06</td>\n",
              "      <td>0.0</td>\n",
              "      <td>3</td>\n",
              "      <td>False</td>\n",
              "      <td>100.0</td>\n",
              "    </tr>\n",
              "    <tr>\n",
              "      <th>3</th>\n",
              "      <td>2.36</td>\n",
              "      <td>4.9</td>\n",
              "      <td>4.6</td>\n",
              "      <td>1.14</td>\n",
              "      <td>King's Landing</td>\n",
              "      <td>2014-06-29</td>\n",
              "      <td>iPhone</td>\n",
              "      <td>2014-01-10</td>\n",
              "      <td>20.0</td>\n",
              "      <td>9</td>\n",
              "      <td>True</td>\n",
              "      <td>80.0</td>\n",
              "    </tr>\n",
              "    <tr>\n",
              "      <th>4</th>\n",
              "      <td>3.13</td>\n",
              "      <td>4.9</td>\n",
              "      <td>4.4</td>\n",
              "      <td>1.19</td>\n",
              "      <td>Winterfell</td>\n",
              "      <td>2014-03-15</td>\n",
              "      <td>Android</td>\n",
              "      <td>2014-01-27</td>\n",
              "      <td>11.8</td>\n",
              "      <td>14</td>\n",
              "      <td>False</td>\n",
              "      <td>82.4</td>\n",
              "    </tr>\n",
              "  </tbody>\n",
              "</table>\n",
              "</div>"
            ],
            "text/plain": [
              "   avg_dist  avg_rating_by_driver  avg_rating_of_driver  avg_surge  \\\n",
              "0      3.67                   5.0                   4.7       1.10   \n",
              "1      8.26                   5.0                   5.0       1.00   \n",
              "2      0.77                   5.0                   4.3       1.00   \n",
              "3      2.36                   4.9                   4.6       1.14   \n",
              "4      3.13                   4.9                   4.4       1.19   \n",
              "\n",
              "             city last_trip_date    phone signup_date  surge_pct  \\\n",
              "0  King's Landing     2014-06-17   iPhone  2014-01-25       15.4   \n",
              "1         Astapor     2014-05-05  Android  2014-01-29        0.0   \n",
              "2         Astapor     2014-01-07   iPhone  2014-01-06        0.0   \n",
              "3  King's Landing     2014-06-29   iPhone  2014-01-10       20.0   \n",
              "4      Winterfell     2014-03-15  Android  2014-01-27       11.8   \n",
              "\n",
              "   trips_in_first_30_days  luxury_car_user  weekday_pct  \n",
              "0                       4             True         46.2  \n",
              "1                       0            False         50.0  \n",
              "2                       3            False        100.0  \n",
              "3                       9             True         80.0  \n",
              "4                      14            False         82.4  "
            ]
          },
          "execution_count": 4,
          "metadata": {},
          "output_type": "execute_result"
        }
      ],
      "source": [
        "df.head()"
      ]
    },
    {
      "cell_type": "code",
      "execution_count": null,
      "metadata": {
        "id": "aXUh8d816vh8",
        "outputId": "6f9a0858-ce6c-4f3f-864b-d1ad48e86a87"
      },
      "outputs": [
        {
          "name": "stdout",
          "output_type": "stream",
          "text": [
            "<class 'pandas.core.frame.DataFrame'>\n",
            "RangeIndex: 50000 entries, 0 to 49999\n",
            "Data columns (total 12 columns):\n",
            " #   Column                  Non-Null Count  Dtype  \n",
            "---  ------                  --------------  -----  \n",
            " 0   avg_dist                50000 non-null  float64\n",
            " 1   avg_rating_by_driver    49799 non-null  float64\n",
            " 2   avg_rating_of_driver    41878 non-null  float64\n",
            " 3   avg_surge               50000 non-null  float64\n",
            " 4   city                    50000 non-null  object \n",
            " 5   last_trip_date          50000 non-null  object \n",
            " 6   phone                   49604 non-null  object \n",
            " 7   signup_date             50000 non-null  object \n",
            " 8   surge_pct               50000 non-null  float64\n",
            " 9   trips_in_first_30_days  50000 non-null  int64  \n",
            " 10  luxury_car_user         50000 non-null  bool   \n",
            " 11  weekday_pct             50000 non-null  float64\n",
            "dtypes: bool(1), float64(6), int64(1), object(4)\n",
            "memory usage: 4.2+ MB\n"
          ]
        }
      ],
      "source": [
        "# имеются пропущенные данные в рейтингах водителей и телефонах\n",
        "# даты формата object\n",
        "df.info()"
      ]
    },
    {
      "cell_type": "code",
      "execution_count": null,
      "metadata": {
        "id": "qoxhJOqP6vh8"
      },
      "outputs": [],
      "source": [
        "# Изменяем тип для дат\n",
        "df.last_trip_date = pd.to_datetime(df.last_trip_date)\n",
        "df.signup_date = pd.to_datetime(df.signup_date)"
      ]
    },
    {
      "cell_type": "code",
      "execution_count": null,
      "metadata": {
        "id": "_WxL2Jkq6vh9",
        "outputId": "5af1ef53-6df7-4249-877e-a47617706a01"
      },
      "outputs": [
        {
          "data": {
            "text/html": [
              "<div>\n",
              "<style scoped>\n",
              "    .dataframe tbody tr th:only-of-type {\n",
              "        vertical-align: middle;\n",
              "    }\n",
              "\n",
              "    .dataframe tbody tr th {\n",
              "        vertical-align: top;\n",
              "    }\n",
              "\n",
              "    .dataframe thead th {\n",
              "        text-align: right;\n",
              "    }\n",
              "</style>\n",
              "<table border=\"1\" class=\"dataframe\">\n",
              "  <thead>\n",
              "    <tr style=\"text-align: right;\">\n",
              "      <th></th>\n",
              "      <th>avg_dist</th>\n",
              "      <th>avg_rating_by_driver</th>\n",
              "      <th>avg_rating_of_driver</th>\n",
              "      <th>avg_surge</th>\n",
              "      <th>surge_pct</th>\n",
              "      <th>trips_in_first_30_days</th>\n",
              "      <th>weekday_pct</th>\n",
              "    </tr>\n",
              "  </thead>\n",
              "  <tbody>\n",
              "    <tr>\n",
              "      <th>count</th>\n",
              "      <td>50000.000000</td>\n",
              "      <td>49799.000000</td>\n",
              "      <td>41878.000000</td>\n",
              "      <td>50000.000000</td>\n",
              "      <td>50000.000000</td>\n",
              "      <td>50000.000000</td>\n",
              "      <td>50000.000000</td>\n",
              "    </tr>\n",
              "    <tr>\n",
              "      <th>mean</th>\n",
              "      <td>5.796827</td>\n",
              "      <td>4.778158</td>\n",
              "      <td>4.601559</td>\n",
              "      <td>1.074764</td>\n",
              "      <td>8.849536</td>\n",
              "      <td>2.278200</td>\n",
              "      <td>60.926084</td>\n",
              "    </tr>\n",
              "    <tr>\n",
              "      <th>std</th>\n",
              "      <td>5.707357</td>\n",
              "      <td>0.446652</td>\n",
              "      <td>0.617338</td>\n",
              "      <td>0.222336</td>\n",
              "      <td>19.958811</td>\n",
              "      <td>3.792684</td>\n",
              "      <td>37.081503</td>\n",
              "    </tr>\n",
              "    <tr>\n",
              "      <th>min</th>\n",
              "      <td>0.000000</td>\n",
              "      <td>1.000000</td>\n",
              "      <td>1.000000</td>\n",
              "      <td>1.000000</td>\n",
              "      <td>0.000000</td>\n",
              "      <td>0.000000</td>\n",
              "      <td>0.000000</td>\n",
              "    </tr>\n",
              "    <tr>\n",
              "      <th>25%</th>\n",
              "      <td>2.420000</td>\n",
              "      <td>4.700000</td>\n",
              "      <td>4.300000</td>\n",
              "      <td>1.000000</td>\n",
              "      <td>0.000000</td>\n",
              "      <td>0.000000</td>\n",
              "      <td>33.300000</td>\n",
              "    </tr>\n",
              "    <tr>\n",
              "      <th>50%</th>\n",
              "      <td>3.880000</td>\n",
              "      <td>5.000000</td>\n",
              "      <td>4.900000</td>\n",
              "      <td>1.000000</td>\n",
              "      <td>0.000000</td>\n",
              "      <td>1.000000</td>\n",
              "      <td>66.700000</td>\n",
              "    </tr>\n",
              "    <tr>\n",
              "      <th>75%</th>\n",
              "      <td>6.940000</td>\n",
              "      <td>5.000000</td>\n",
              "      <td>5.000000</td>\n",
              "      <td>1.050000</td>\n",
              "      <td>8.600000</td>\n",
              "      <td>3.000000</td>\n",
              "      <td>100.000000</td>\n",
              "    </tr>\n",
              "    <tr>\n",
              "      <th>max</th>\n",
              "      <td>160.960000</td>\n",
              "      <td>5.000000</td>\n",
              "      <td>5.000000</td>\n",
              "      <td>8.000000</td>\n",
              "      <td>100.000000</td>\n",
              "      <td>125.000000</td>\n",
              "      <td>100.000000</td>\n",
              "    </tr>\n",
              "  </tbody>\n",
              "</table>\n",
              "</div>"
            ],
            "text/plain": [
              "           avg_dist  avg_rating_by_driver  avg_rating_of_driver     avg_surge  \\\n",
              "count  50000.000000          49799.000000          41878.000000  50000.000000   \n",
              "mean       5.796827              4.778158              4.601559      1.074764   \n",
              "std        5.707357              0.446652              0.617338      0.222336   \n",
              "min        0.000000              1.000000              1.000000      1.000000   \n",
              "25%        2.420000              4.700000              4.300000      1.000000   \n",
              "50%        3.880000              5.000000              4.900000      1.000000   \n",
              "75%        6.940000              5.000000              5.000000      1.050000   \n",
              "max      160.960000              5.000000              5.000000      8.000000   \n",
              "\n",
              "          surge_pct  trips_in_first_30_days   weekday_pct  \n",
              "count  50000.000000            50000.000000  50000.000000  \n",
              "mean       8.849536                2.278200     60.926084  \n",
              "std       19.958811                3.792684     37.081503  \n",
              "min        0.000000                0.000000      0.000000  \n",
              "25%        0.000000                0.000000     33.300000  \n",
              "50%        0.000000                1.000000     66.700000  \n",
              "75%        8.600000                3.000000    100.000000  \n",
              "max      100.000000              125.000000    100.000000  "
            ]
          },
          "execution_count": 7,
          "metadata": {},
          "output_type": "execute_result"
        }
      ],
      "source": [
        "# описательные статистики количественных переменных\n",
        "df.describe()"
      ]
    },
    {
      "cell_type": "code",
      "execution_count": null,
      "metadata": {
        "id": "sPnucq_z6vh9",
        "outputId": "6947db52-c9f5-487b-8b5d-23230db3b914"
      },
      "outputs": [
        {
          "name": "stderr",
          "output_type": "stream",
          "text": [
            "C:\\Users\\User\\AppData\\Local\\Temp\\ipykernel_8884\\1397772673.py:2: FutureWarning: Treating datetime data as categorical rather than numeric in `.describe` is deprecated and will be removed in a future version of pandas. Specify `datetime_is_numeric=True` to silence this warning and adopt the future behavior now.\n",
            "  df.describe(include='datetime')\n",
            "C:\\Users\\User\\AppData\\Local\\Temp\\ipykernel_8884\\1397772673.py:2: FutureWarning: Treating datetime data as categorical rather than numeric in `.describe` is deprecated and will be removed in a future version of pandas. Specify `datetime_is_numeric=True` to silence this warning and adopt the future behavior now.\n",
            "  df.describe(include='datetime')\n"
          ]
        },
        {
          "data": {
            "text/html": [
              "<div>\n",
              "<style scoped>\n",
              "    .dataframe tbody tr th:only-of-type {\n",
              "        vertical-align: middle;\n",
              "    }\n",
              "\n",
              "    .dataframe tbody tr th {\n",
              "        vertical-align: top;\n",
              "    }\n",
              "\n",
              "    .dataframe thead th {\n",
              "        text-align: right;\n",
              "    }\n",
              "</style>\n",
              "<table border=\"1\" class=\"dataframe\">\n",
              "  <thead>\n",
              "    <tr style=\"text-align: right;\">\n",
              "      <th></th>\n",
              "      <th>last_trip_date</th>\n",
              "      <th>signup_date</th>\n",
              "    </tr>\n",
              "  </thead>\n",
              "  <tbody>\n",
              "    <tr>\n",
              "      <th>count</th>\n",
              "      <td>50000</td>\n",
              "      <td>50000</td>\n",
              "    </tr>\n",
              "    <tr>\n",
              "      <th>unique</th>\n",
              "      <td>182</td>\n",
              "      <td>31</td>\n",
              "    </tr>\n",
              "    <tr>\n",
              "      <th>top</th>\n",
              "      <td>2014-06-29 00:00:00</td>\n",
              "      <td>2014-01-18 00:00:00</td>\n",
              "    </tr>\n",
              "    <tr>\n",
              "      <th>freq</th>\n",
              "      <td>2036</td>\n",
              "      <td>2948</td>\n",
              "    </tr>\n",
              "    <tr>\n",
              "      <th>first</th>\n",
              "      <td>2014-01-01 00:00:00</td>\n",
              "      <td>2014-01-01 00:00:00</td>\n",
              "    </tr>\n",
              "    <tr>\n",
              "      <th>last</th>\n",
              "      <td>2014-07-01 00:00:00</td>\n",
              "      <td>2014-01-31 00:00:00</td>\n",
              "    </tr>\n",
              "  </tbody>\n",
              "</table>\n",
              "</div>"
            ],
            "text/plain": [
              "             last_trip_date          signup_date\n",
              "count                 50000                50000\n",
              "unique                  182                   31\n",
              "top     2014-06-29 00:00:00  2014-01-18 00:00:00\n",
              "freq                   2036                 2948\n",
              "first   2014-01-01 00:00:00  2014-01-01 00:00:00\n",
              "last    2014-07-01 00:00:00  2014-01-31 00:00:00"
            ]
          },
          "execution_count": 8,
          "metadata": {},
          "output_type": "execute_result"
        }
      ],
      "source": [
        "# характеристики временных фичей\n",
        "df.describe(include='datetime')"
      ]
    },
    {
      "cell_type": "markdown",
      "metadata": {
        "id": "lk0XJ-uq6vh-"
      },
      "source": [
        "Начнем решать поставленную задачу. Предположим, что юзер неактивен, если не был в приложении (не был активен) последние 30 дней.  \n",
        "Создаем лейбл churn/not churn"
      ]
    },
    {
      "cell_type": "code",
      "execution_count": null,
      "metadata": {
        "id": "cVGju3tQ6vh_",
        "outputId": "e6d77c04-31e0-4344-be9e-82d2098301c7"
      },
      "outputs": [
        {
          "data": {
            "text/plain": [
              "Timestamp('2014-07-01 00:00:00')"
            ]
          },
          "execution_count": 9,
          "metadata": {},
          "output_type": "execute_result"
        }
      ],
      "source": [
        "# возьмем последнюю дату поездки в датасете за дату расчета\n",
        "df.last_trip_date.max()"
      ]
    },
    {
      "cell_type": "code",
      "execution_count": null,
      "metadata": {
        "id": "tBubz-yR6viA"
      },
      "outputs": [],
      "source": [
        "# определим период неактивности для каждого юзера\n",
        "df['days_since_last_trip'] = df.last_trip_date.max() - df.last_trip_date"
      ]
    },
    {
      "cell_type": "code",
      "execution_count": null,
      "metadata": {
        "id": "pSy33o-o6viB",
        "outputId": "e3edacfa-809c-4690-d1c3-3d5e1eadded7"
      },
      "outputs": [
        {
          "data": {
            "text/plain": [
              "0        14 days\n",
              "1        57 days\n",
              "2       175 days\n",
              "3         2 days\n",
              "4       108 days\n",
              "          ...   \n",
              "49995    26 days\n",
              "49996   157 days\n",
              "49997    40 days\n",
              "49998   167 days\n",
              "49999    72 days\n",
              "Name: days_since_last_trip, Length: 50000, dtype: timedelta64[ns]"
            ]
          },
          "execution_count": 11,
          "metadata": {},
          "output_type": "execute_result"
        }
      ],
      "source": [
        "df.days_since_last_trip"
      ]
    },
    {
      "cell_type": "code",
      "execution_count": null,
      "metadata": {
        "id": "C4vwF2Y26viC"
      },
      "outputs": [],
      "source": [
        "# Преобразуем в int:\n",
        "df['days_since_last_trip'] = df['days_since_last_trip'].dt.days"
      ]
    },
    {
      "cell_type": "code",
      "execution_count": null,
      "metadata": {
        "id": "EJhoYPUI6viC",
        "outputId": "9970b5b5-4cb9-45e4-b255-dd3007a26176"
      },
      "outputs": [
        {
          "data": {
            "text/html": [
              "<div>\n",
              "<style scoped>\n",
              "    .dataframe tbody tr th:only-of-type {\n",
              "        vertical-align: middle;\n",
              "    }\n",
              "\n",
              "    .dataframe tbody tr th {\n",
              "        vertical-align: top;\n",
              "    }\n",
              "\n",
              "    .dataframe thead th {\n",
              "        text-align: right;\n",
              "    }\n",
              "</style>\n",
              "<table border=\"1\" class=\"dataframe\">\n",
              "  <thead>\n",
              "    <tr style=\"text-align: right;\">\n",
              "      <th></th>\n",
              "      <th>days_since_last_trip</th>\n",
              "      <th>churn</th>\n",
              "    </tr>\n",
              "  </thead>\n",
              "  <tbody>\n",
              "    <tr>\n",
              "      <th>0</th>\n",
              "      <td>14</td>\n",
              "      <td>not_churn</td>\n",
              "    </tr>\n",
              "    <tr>\n",
              "      <th>1</th>\n",
              "      <td>57</td>\n",
              "      <td>churn</td>\n",
              "    </tr>\n",
              "    <tr>\n",
              "      <th>2</th>\n",
              "      <td>175</td>\n",
              "      <td>churn</td>\n",
              "    </tr>\n",
              "    <tr>\n",
              "      <th>3</th>\n",
              "      <td>2</td>\n",
              "      <td>not_churn</td>\n",
              "    </tr>\n",
              "    <tr>\n",
              "      <th>4</th>\n",
              "      <td>108</td>\n",
              "      <td>churn</td>\n",
              "    </tr>\n",
              "    <tr>\n",
              "      <th>...</th>\n",
              "      <td>...</td>\n",
              "      <td>...</td>\n",
              "    </tr>\n",
              "    <tr>\n",
              "      <th>49995</th>\n",
              "      <td>26</td>\n",
              "      <td>not_churn</td>\n",
              "    </tr>\n",
              "    <tr>\n",
              "      <th>49996</th>\n",
              "      <td>157</td>\n",
              "      <td>churn</td>\n",
              "    </tr>\n",
              "    <tr>\n",
              "      <th>49997</th>\n",
              "      <td>40</td>\n",
              "      <td>churn</td>\n",
              "    </tr>\n",
              "    <tr>\n",
              "      <th>49998</th>\n",
              "      <td>167</td>\n",
              "      <td>churn</td>\n",
              "    </tr>\n",
              "    <tr>\n",
              "      <th>49999</th>\n",
              "      <td>72</td>\n",
              "      <td>churn</td>\n",
              "    </tr>\n",
              "  </tbody>\n",
              "</table>\n",
              "<p>50000 rows × 2 columns</p>\n",
              "</div>"
            ],
            "text/plain": [
              "       days_since_last_trip      churn\n",
              "0                        14  not_churn\n",
              "1                        57      churn\n",
              "2                       175      churn\n",
              "3                         2  not_churn\n",
              "4                       108      churn\n",
              "...                     ...        ...\n",
              "49995                    26  not_churn\n",
              "49996                   157      churn\n",
              "49997                    40      churn\n",
              "49998                   167      churn\n",
              "49999                    72      churn\n",
              "\n",
              "[50000 rows x 2 columns]"
            ]
          },
          "execution_count": 13,
          "metadata": {},
          "output_type": "execute_result"
        }
      ],
      "source": [
        "# создаем лейбл\n",
        "df['churn'] = df.days_since_last_trip.apply(lambda x: 'churn' if x > 30 else 'not_churn')\n",
        "df[['days_since_last_trip', 'churn']]"
      ]
    },
    {
      "cell_type": "code",
      "execution_count": null,
      "metadata": {
        "id": "p4d0Tp6-6viC",
        "outputId": "d28a6e94-ce69-4e1a-dd8d-d7ce67e483c8"
      },
      "outputs": [
        {
          "data": {
            "text/plain": [
              "churn        62.392\n",
              "not_churn    37.608\n",
              "Name: churn, dtype: float64"
            ]
          },
          "execution_count": 14,
          "metadata": {},
          "output_type": "execute_result"
        }
      ],
      "source": [
        "# почти 2/3 юзеров не использовали сервис в последнем месяце, почему?\n",
        "df.churn.value_counts(normalize=True).mul(100)"
      ]
    },
    {
      "cell_type": "code",
      "execution_count": null,
      "metadata": {
        "id": "2OGTQXQf6viD",
        "outputId": "ae48f835-58e3-4245-a3e0-b7c98db87245"
      },
      "outputs": [
        {
          "data": {
            "text/html": [
              "<div>\n",
              "<style scoped>\n",
              "    .dataframe tbody tr th:only-of-type {\n",
              "        vertical-align: middle;\n",
              "    }\n",
              "\n",
              "    .dataframe tbody tr th {\n",
              "        vertical-align: top;\n",
              "    }\n",
              "\n",
              "    .dataframe thead th {\n",
              "        text-align: right;\n",
              "    }\n",
              "</style>\n",
              "<table border=\"1\" class=\"dataframe\">\n",
              "  <thead>\n",
              "    <tr style=\"text-align: right;\">\n",
              "      <th>phone</th>\n",
              "      <th>Android</th>\n",
              "      <th>iPhone</th>\n",
              "    </tr>\n",
              "    <tr>\n",
              "      <th>churn</th>\n",
              "      <th></th>\n",
              "      <th></th>\n",
              "    </tr>\n",
              "  </thead>\n",
              "  <tbody>\n",
              "    <tr>\n",
              "      <th>churn</th>\n",
              "      <td>11876</td>\n",
              "      <td>19057</td>\n",
              "    </tr>\n",
              "    <tr>\n",
              "      <th>not_churn</th>\n",
              "      <td>3146</td>\n",
              "      <td>15525</td>\n",
              "    </tr>\n",
              "  </tbody>\n",
              "</table>\n",
              "</div>"
            ],
            "text/plain": [
              "phone      Android  iPhone\n",
              "churn                     \n",
              "churn        11876   19057\n",
              "not_churn     3146   15525"
            ]
          },
          "execution_count": 15,
          "metadata": {},
          "output_type": "execute_result"
        }
      ],
      "source": [
        "# может, виновата платформа?\n",
        "pd.crosstab(df.churn, df.phone)"
      ]
    },
    {
      "cell_type": "markdown",
      "metadata": {
        "id": "aX4apxB86viD"
      },
      "source": [
        "Как будто мобильная платформа влияет на то, пользовался ли юзер приложением последний месяц. Проверим нашу гипотезу с помощью статистического теста (поскольку есть две категориальные переменные, нужен хи-квадрат):\n",
        "\n",
        "- $H_0$: взаимосвязи между переменными нет\n",
        "- $H_1$: взаимосвязь есть"
      ]
    },
    {
      "cell_type": "code",
      "execution_count": null,
      "metadata": {
        "id": "pmNHDsnQ6viE",
        "outputId": "f793d517-91fd-47ae-f5e8-8d35a07bf230"
      },
      "outputs": [
        {
          "data": {
            "text/plain": [
              "(2558.394212267425, 0.0)"
            ]
          },
          "execution_count": 16,
          "metadata": {},
          "output_type": "execute_result"
        }
      ],
      "source": [
        "from scipy.stats import chi2_contingency, chi2\n",
        "stat, p, dof, expected = chi2_contingency(pd.crosstab(df.churn, df.phone))\n",
        "stat, p"
      ]
    },
    {
      "cell_type": "code",
      "execution_count": null,
      "metadata": {
        "id": "hYo2F0DP6viE",
        "outputId": "44359c39-9d55-47b6-de4b-280d41da7722"
      },
      "outputs": [
        {
          "name": "stdout",
          "output_type": "stream",
          "text": [
            "Отклоняем H0\n"
          ]
        }
      ],
      "source": [
        "# Интерпретируем результат:\n",
        "prob = 0.95\n",
        "alpha = 1.0 - prob\n",
        "if p <= alpha:\n",
        "    print('Отклоняем H0')\n",
        "else:\n",
        "    print('Не отклоняем H0')"
      ]
    },
    {
      "cell_type": "markdown",
      "metadata": {
        "id": "6rnwn7g76viE"
      },
      "source": [
        "Итак, похоже что нужен дополнительный анализ работы приложения на андроиде, поскольку значительная часть ушедших юзеров именно с андроида"
      ]
    },
    {
      "cell_type": "code",
      "execution_count": null,
      "metadata": {
        "id": "dzBsYmdp6viF",
        "outputId": "e3219e46-bb78-4daf-fbf2-0e1f09560a9e"
      },
      "outputs": [
        {
          "data": {
            "text/html": [
              "<div>\n",
              "<style scoped>\n",
              "    .dataframe tbody tr th:only-of-type {\n",
              "        vertical-align: middle;\n",
              "    }\n",
              "\n",
              "    .dataframe tbody tr th {\n",
              "        vertical-align: top;\n",
              "    }\n",
              "\n",
              "    .dataframe thead th {\n",
              "        text-align: right;\n",
              "    }\n",
              "</style>\n",
              "<table border=\"1\" class=\"dataframe\">\n",
              "  <thead>\n",
              "    <tr style=\"text-align: right;\">\n",
              "      <th>city</th>\n",
              "      <th>Astapor</th>\n",
              "      <th>King's Landing</th>\n",
              "      <th>Winterfell</th>\n",
              "    </tr>\n",
              "    <tr>\n",
              "      <th>churn</th>\n",
              "      <th></th>\n",
              "      <th></th>\n",
              "      <th></th>\n",
              "    </tr>\n",
              "  </thead>\n",
              "  <tbody>\n",
              "    <tr>\n",
              "      <th>churn</th>\n",
              "      <td>12306</td>\n",
              "      <td>3767</td>\n",
              "      <td>15123</td>\n",
              "    </tr>\n",
              "    <tr>\n",
              "      <th>not_churn</th>\n",
              "      <td>4228</td>\n",
              "      <td>6363</td>\n",
              "      <td>8213</td>\n",
              "    </tr>\n",
              "  </tbody>\n",
              "</table>\n",
              "</div>"
            ],
            "text/plain": [
              "city       Astapor  King's Landing  Winterfell\n",
              "churn                                         \n",
              "churn        12306            3767       15123\n",
              "not_churn     4228            6363        8213"
            ]
          },
          "execution_count": 18,
          "metadata": {},
          "output_type": "execute_result"
        }
      ],
      "source": [
        "# окей, что насчет поведения юзеров из разных городов?\n",
        "pd.crosstab(df.churn, df.city)"
      ]
    },
    {
      "cell_type": "markdown",
      "metadata": {
        "id": "xnInkMij6viF"
      },
      "source": [
        "Кажется, что юзеры из разных городов по-разному активничают последний месяц. Проверим нашу гипотезу с помощью статистического теста (поскольку есть две категориальные переменные, нужен хи-квадрат):\n",
        "\n",
        "- $H_0$: взаимосвязи между переменными нет\n",
        "- $H_1$: взаимосвязь есть"
      ]
    },
    {
      "cell_type": "code",
      "execution_count": null,
      "metadata": {
        "id": "tIT-eB546viF",
        "outputId": "3e97a87a-dba2-4d08-fb66-f0cbc32b5896"
      },
      "outputs": [
        {
          "data": {
            "text/plain": [
              "(3821.5510225559633, 0.0)"
            ]
          },
          "execution_count": 19,
          "metadata": {},
          "output_type": "execute_result"
        }
      ],
      "source": [
        "from scipy.stats import chi2_contingency, chi2\n",
        "stat, p, dof, expected = chi2_contingency(pd.crosstab(df.churn, df.city))\n",
        "stat, p"
      ]
    },
    {
      "cell_type": "code",
      "execution_count": null,
      "metadata": {
        "scrolled": true,
        "id": "eUeW1r216viG",
        "outputId": "71720a0a-ea0f-413b-804a-dbe3b0cb0dbb"
      },
      "outputs": [
        {
          "name": "stdout",
          "output_type": "stream",
          "text": [
            "Отклоняем H0\n"
          ]
        }
      ],
      "source": [
        "# Интерпретируем результат:\n",
        "prob = 0.95\n",
        "alpha = 1.0 - prob\n",
        "if p <= alpha:\n",
        "    print('Отклоняем H0')\n",
        "else:\n",
        "    print('Не отклоняем H0')"
      ]
    },
    {
      "cell_type": "markdown",
      "metadata": {
        "id": "NaWCK6WS6viG"
      },
      "source": [
        "Окей, получается, что юзеры в последний месяц в разных городах ведут себя по-разному. Это касается только указанного периода, или же это особенность поведения пользователей? Сравним к примеру число поездок в первый месяц по разным городам"
      ]
    },
    {
      "cell_type": "code",
      "execution_count": null,
      "metadata": {
        "id": "UTTUfo7_6viG"
      },
      "outputs": [],
      "source": [
        "# прежде всего проверим данные по городам на нормальность\n",
        "from scipy.stats import shapiro"
      ]
    },
    {
      "cell_type": "code",
      "execution_count": null,
      "metadata": {
        "id": "WbKwr2L66viG"
      },
      "outputs": [],
      "source": [
        "df_w = df.query('city == \"Winterfell\"').trips_in_first_30_days\n",
        "df_a = df.query('city == \"Astapor\"').trips_in_first_30_days\n",
        "df_kl = df.query('city == \"King\\'s Landing\"').trips_in_first_30_days"
      ]
    },
    {
      "cell_type": "code",
      "execution_count": null,
      "metadata": {
        "id": "5MDly2Yp6viH",
        "outputId": "022a8963-ae25-4a52-e1a3-bf02b871db73"
      },
      "outputs": [
        {
          "name": "stderr",
          "output_type": "stream",
          "text": [
            "C:\\Users\\User\\anaconda3\\lib\\site-packages\\scipy\\stats\\_morestats.py:1761: UserWarning: p-value may not be accurate for N > 5000.\n",
            "  warnings.warn(\"p-value may not be accurate for N > 5000.\")\n"
          ]
        },
        {
          "data": {
            "text/plain": [
              "ShapiroResult(statistic=0.593726634979248, pvalue=0.0)"
            ]
          },
          "execution_count": 23,
          "metadata": {},
          "output_type": "execute_result"
        }
      ],
      "source": [
        "stats.shapiro(df_w)"
      ]
    },
    {
      "cell_type": "code",
      "execution_count": null,
      "metadata": {
        "id": "1hJ7r-6T6viH",
        "outputId": "5011238c-a03c-4d5b-babd-bb3a4b7076b1"
      },
      "outputs": [
        {
          "data": {
            "text/plain": [
              "ShapiroResult(statistic=0.5382282733917236, pvalue=0.0)"
            ]
          },
          "execution_count": 24,
          "metadata": {},
          "output_type": "execute_result"
        }
      ],
      "source": [
        "stats.shapiro(df_a)"
      ]
    },
    {
      "cell_type": "code",
      "execution_count": null,
      "metadata": {
        "id": "y9t2nMXJ6viI",
        "outputId": "b1a33bad-7b55-4439-9949-23946ca1699e"
      },
      "outputs": [
        {
          "data": {
            "text/plain": [
              "ShapiroResult(statistic=0.550529956817627, pvalue=0.0)"
            ]
          },
          "execution_count": 26,
          "metadata": {},
          "output_type": "execute_result"
        }
      ],
      "source": [
        "stats.shapiro(df_kl)"
      ]
    },
    {
      "cell_type": "markdown",
      "metadata": {
        "id": "8w39a5zQ6viI"
      },
      "source": [
        "Распределения не являются нормальными, поэтому используем непараметрический аналог ANOVA – критерий Краскела-Уоллиса"
      ]
    },
    {
      "cell_type": "code",
      "execution_count": null,
      "metadata": {
        "id": "xk4w-hWR6viI",
        "outputId": "29406f12-754a-48e5-e4c1-3f508bcaf91a"
      },
      "outputs": [
        {
          "data": {
            "text/plain": [
              "KruskalResult(statistic=221.32105325320535, pvalue=8.724567791804361e-49)"
            ]
          },
          "execution_count": 33,
          "metadata": {},
          "output_type": "execute_result"
        }
      ],
      "source": [
        "stats.kruskal(df_w, df_a, df_kl)"
      ]
    },
    {
      "cell_type": "markdown",
      "metadata": {
        "id": "XtQOw_8d6viJ"
      },
      "source": [
        "В активности в первые 30 дней с момента регистрации между водителями ***из разных городов*** обнаружены  статистически значимые различия.  \n",
        "Тогда влияет ли активность в первые 30 дней на последующую активность, например в последние 30 дней?  \n",
        "Поскольку распределение переменной trips_in_first_30_days не является нормальным, сравним активности оставшихся и ушедших юзеров с помощью критерия Манна - Уитни"
      ]
    },
    {
      "cell_type": "code",
      "execution_count": null,
      "metadata": {
        "id": "z-wV-IMv6viJ"
      },
      "outputs": [],
      "source": [
        "from scipy.stats import mannwhitneyu"
      ]
    },
    {
      "cell_type": "code",
      "execution_count": null,
      "metadata": {
        "id": "UvF8pTpF6viJ",
        "outputId": "0f7a2e0e-9f15-48cf-941c-17c60a4d775a"
      },
      "outputs": [
        {
          "data": {
            "text/plain": [
              "MannwhitneyuResult(statistic=234767452.0, pvalue=0.0)"
            ]
          },
          "execution_count": 37,
          "metadata": {},
          "output_type": "execute_result"
        }
      ],
      "source": [
        "mannwhitneyu(df.query('churn == \"churn\"').trips_in_first_30_days, df.query('churn == \"not_churn\"').trips_in_first_30_days)"
      ]
    },
    {
      "cell_type": "code",
      "execution_count": null,
      "metadata": {
        "id": "vx9vmCWA6viK",
        "outputId": "641c77dd-1921-4643-e2f9-5f57a1e6d79d"
      },
      "outputs": [
        {
          "data": {
            "text/html": [
              "<div>\n",
              "<style scoped>\n",
              "    .dataframe tbody tr th:only-of-type {\n",
              "        vertical-align: middle;\n",
              "    }\n",
              "\n",
              "    .dataframe tbody tr th {\n",
              "        vertical-align: top;\n",
              "    }\n",
              "\n",
              "    .dataframe thead th {\n",
              "        text-align: right;\n",
              "    }\n",
              "</style>\n",
              "<table border=\"1\" class=\"dataframe\">\n",
              "  <thead>\n",
              "    <tr style=\"text-align: right;\">\n",
              "      <th></th>\n",
              "      <th>churn</th>\n",
              "      <th>trips_in_first_30_days</th>\n",
              "    </tr>\n",
              "  </thead>\n",
              "  <tbody>\n",
              "    <tr>\n",
              "      <th>0</th>\n",
              "      <td>churn</td>\n",
              "      <td>1.658482</td>\n",
              "    </tr>\n",
              "    <tr>\n",
              "      <th>1</th>\n",
              "      <td>not_churn</td>\n",
              "      <td>3.306318</td>\n",
              "    </tr>\n",
              "  </tbody>\n",
              "</table>\n",
              "</div>"
            ],
            "text/plain": [
              "       churn  trips_in_first_30_days\n",
              "0      churn                1.658482\n",
              "1  not_churn                3.306318"
            ]
          },
          "execution_count": 38,
          "metadata": {},
          "output_type": "execute_result"
        }
      ],
      "source": [
        "df.groupby('churn', as_index = False).trips_in_first_30_days.mean()"
      ]
    },
    {
      "cell_type": "markdown",
      "metadata": {
        "id": "STi8k8gQ6viK"
      },
      "source": [
        "Выводы:  \n",
        "Статистически значимые различия в поведении юзеров наблюдаются в разрезе платформ, городов и первоначальной активности, поэтому:  \n",
        "1. Необходимо рассмотреть особенности работы приложения на платформе андроид, возможны баги  \n",
        "2. Нужен дополнительный анализ работы приложения и рынков такси в двух городах из трех (возможно, зашел более выгодный для юзеров конкурент?).\n",
        "3. Видно, что ушедшие юзеры были изначально менее активны. Возможно стоит рассмотреть вариант улучшения программы лояльности и бонусов для водителей, или улучшить таргетинг  "
      ]
    }
  ],
  "metadata": {
    "kernelspec": {
      "display_name": "Python 3 (ipykernel)",
      "language": "python",
      "name": "python3"
    },
    "language_info": {
      "codemirror_mode": {
        "name": "ipython",
        "version": 3
      },
      "file_extension": ".py",
      "mimetype": "text/x-python",
      "name": "python",
      "nbconvert_exporter": "python",
      "pygments_lexer": "ipython3",
      "version": "3.8.8"
    },
    "colab": {
      "provenance": [],
      "include_colab_link": true
    }
  },
  "nbformat": 4,
  "nbformat_minor": 0
}